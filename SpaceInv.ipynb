{
  "cells": [
    {
      "cell_type": "markdown",
      "metadata": {
        "id": "view-in-github",
        "colab_type": "text"
      },
      "source": [
        "<a href=\"https://colab.research.google.com/github/MuddLoser/semestral/blob/main/SpaceInv.ipynb\" target=\"_parent\"><img src=\"https://colab.research.google.com/assets/colab-badge.svg\" alt=\"Open In Colab\"/></a>"
      ]
    },
    {
      "cell_type": "code",
      "execution_count": 1,
      "metadata": {
        "colab": {
          "base_uri": "https://localhost:8080/"
        },
        "id": "SChfXLBye9v0",
        "outputId": "48416cab-b549-42c1-a9e6-4f1a47d0907d",
        "collapsed": true
      },
      "outputs": [
        {
          "output_type": "stream",
          "name": "stdout",
          "text": [
            "Requirement already satisfied: gym in /usr/local/lib/python3.10/dist-packages (0.25.2)\n",
            "Requirement already satisfied: numpy>=1.18.0 in /usr/local/lib/python3.10/dist-packages (from gym) (1.26.4)\n",
            "Requirement already satisfied: cloudpickle>=1.2.0 in /usr/local/lib/python3.10/dist-packages (from gym) (3.1.0)\n",
            "Requirement already satisfied: gym_notices>=0.0.4 in /usr/local/lib/python3.10/dist-packages (from gym) (0.0.8)\n",
            "Requirement already satisfied: gym[atari] in /usr/local/lib/python3.10/dist-packages (0.25.2)\n",
            "Requirement already satisfied: numpy>=1.18.0 in /usr/local/lib/python3.10/dist-packages (from gym[atari]) (1.26.4)\n",
            "Requirement already satisfied: cloudpickle>=1.2.0 in /usr/local/lib/python3.10/dist-packages (from gym[atari]) (3.1.0)\n",
            "Requirement already satisfied: gym_notices>=0.0.4 in /usr/local/lib/python3.10/dist-packages (from gym[atari]) (0.0.8)\n",
            "Collecting ale-py~=0.7.5 (from gym[atari])\n",
            "  Downloading ale_py-0.7.5-cp310-cp310-manylinux_2_17_x86_64.manylinux2014_x86_64.whl.metadata (8.1 kB)\n",
            "Requirement already satisfied: importlib-resources in /usr/local/lib/python3.10/dist-packages (from ale-py~=0.7.5->gym[atari]) (6.4.5)\n",
            "Downloading ale_py-0.7.5-cp310-cp310-manylinux_2_17_x86_64.manylinux2014_x86_64.whl (1.6 MB)\n",
            "\u001b[2K   \u001b[90m━━━━━━━━━━━━━━━━━━━━━━━━━━━━━━━━━━━━━━━━\u001b[0m \u001b[32m1.6/1.6 MB\u001b[0m \u001b[31m13.8 MB/s\u001b[0m eta \u001b[36m0:00:00\u001b[0m\n",
            "\u001b[?25hInstalling collected packages: ale-py\n",
            "Successfully installed ale-py-0.7.5\n",
            "Requirement already satisfied: numpy in /usr/local/lib/python3.10/dist-packages (1.26.4)\n",
            "Collecting autorom[accept-rom-license]\n",
            "  Downloading AutoROM-0.6.1-py3-none-any.whl.metadata (2.4 kB)\n",
            "Requirement already satisfied: click in /usr/local/lib/python3.10/dist-packages (from autorom[accept-rom-license]) (8.1.7)\n",
            "Requirement already satisfied: requests in /usr/local/lib/python3.10/dist-packages (from autorom[accept-rom-license]) (2.32.3)\n",
            "Collecting AutoROM.accept-rom-license (from autorom[accept-rom-license])\n",
            "  Downloading AutoROM.accept-rom-license-0.6.1.tar.gz (434 kB)\n",
            "\u001b[2K     \u001b[90m━━━━━━━━━━━━━━━━━━━━━━━━━━━━━━━━━━━━━━━━\u001b[0m \u001b[32m434.7/434.7 kB\u001b[0m \u001b[31m5.1 MB/s\u001b[0m eta \u001b[36m0:00:00\u001b[0m\n",
            "\u001b[?25h  Installing build dependencies ... \u001b[?25l\u001b[?25hdone\n",
            "  Getting requirements to build wheel ... \u001b[?25l\u001b[?25hdone\n",
            "  Preparing metadata (pyproject.toml) ... \u001b[?25l\u001b[?25hdone\n",
            "Requirement already satisfied: charset-normalizer<4,>=2 in /usr/local/lib/python3.10/dist-packages (from requests->autorom[accept-rom-license]) (3.4.0)\n",
            "Requirement already satisfied: idna<4,>=2.5 in /usr/local/lib/python3.10/dist-packages (from requests->autorom[accept-rom-license]) (3.10)\n",
            "Requirement already satisfied: urllib3<3,>=1.21.1 in /usr/local/lib/python3.10/dist-packages (from requests->autorom[accept-rom-license]) (2.2.3)\n",
            "Requirement already satisfied: certifi>=2017.4.17 in /usr/local/lib/python3.10/dist-packages (from requests->autorom[accept-rom-license]) (2024.8.30)\n",
            "Downloading AutoROM-0.6.1-py3-none-any.whl (9.4 kB)\n",
            "Building wheels for collected packages: AutoROM.accept-rom-license\n",
            "  Building wheel for AutoROM.accept-rom-license (pyproject.toml) ... \u001b[?25l\u001b[?25hdone\n",
            "  Created wheel for AutoROM.accept-rom-license: filename=AutoROM.accept_rom_license-0.6.1-py3-none-any.whl size=446667 sha256=b361a15192b918c0e5cc6b730a74862353ad47a506e1bfe202cd3d5556cafa4b\n",
            "  Stored in directory: /root/.cache/pip/wheels/6b/1b/ef/a43ff1a2f1736d5711faa1ba4c1f61be1131b8899e6a057811\n",
            "Successfully built AutoROM.accept-rom-license\n",
            "Installing collected packages: AutoROM.accept-rom-license, autorom\n",
            "Successfully installed AutoROM.accept-rom-license-0.6.1 autorom-0.6.1\n",
            "Collecting pyvirtualdisplay\n",
            "  Downloading PyVirtualDisplay-3.0-py3-none-any.whl.metadata (943 bytes)\n",
            "Downloading PyVirtualDisplay-3.0-py3-none-any.whl (15 kB)\n",
            "Installing collected packages: pyvirtualdisplay\n",
            "Successfully installed pyvirtualdisplay-3.0\n"
          ]
        }
      ],
      "source": [
        "!pip install gym\n",
        "!pip install gym[atari]\n",
        "!pip install numpy\n",
        "!pip install autorom[accept-rom-license]\n",
        "!pip install pyvirtualdisplay"
      ]
    },
    {
      "cell_type": "code",
      "execution_count": 4,
      "metadata": {
        "colab": {
          "base_uri": "https://localhost:8080/"
        },
        "id": "bT0TLyYVfgRm",
        "outputId": "8b6bcc6c-cd7c-49cc-a92f-82ca2469b8de"
      },
      "outputs": [
        {
          "output_type": "stream",
          "name": "stdout",
          "text": [
            "AutoROM will download the Atari 2600 ROMs.\n",
            "They will be installed to:\n",
            "\t/usr/local/lib/python3.10/dist-packages/AutoROM/roms\n",
            "\n",
            "Existing ROMs will be overwritten.\n"
          ]
        }
      ],
      "source": [
        "import gym\n",
        "import numpy as np\n",
        "import random\n",
        "\n",
        "from IPython.display import display, clear_output\n",
        "from time import sleep\n",
        "\n",
        "import matplotlib.pyplot as plt\n",
        "from pyvirtualdisplay import Display\n",
        "\n",
        "!AutoROM --accept-license\n",
        "import os\n",
        "os.environ['SDL_VIDEODRIVER'] = 'dummy'"
      ]
    },
    {
      "cell_type": "code",
      "execution_count": 3,
      "metadata": {
        "colab": {
          "base_uri": "https://localhost:8080/",
          "height": 587
        },
        "id": "HGa44rhRftNm",
        "outputId": "4d7d99b4-0930-423a-9425-7426fd79c8ad"
      },
      "outputs": [
        {
          "output_type": "stream",
          "name": "stderr",
          "text": [
            "/usr/local/lib/python3.10/dist-packages/gym/core.py:317: DeprecationWarning: \u001b[33mWARN: Initializing wrapper in old step API which returns one bool instead of two. It is recommended to set `new_step_api=True` to use new step API. This will be the default behaviour in future.\u001b[0m\n",
            "  deprecation(\n",
            "/usr/local/lib/python3.10/dist-packages/gym/wrappers/step_api_compatibility.py:39: DeprecationWarning: \u001b[33mWARN: Initializing environment in old step API which returns one bool instead of two. It is recommended to set `new_step_api=True` to use new step API. This will be the default behaviour in future.\u001b[0m\n",
            "  deprecation(\n",
            "/usr/local/lib/python3.10/dist-packages/gym/core.py:43: DeprecationWarning: \u001b[33mWARN: The argument mode in render method is deprecated; use render_mode during environment initialization instead.\n",
            "See here for more information: https://www.gymlibrary.ml/content/api/\u001b[0m\n",
            "  deprecation(\n",
            "/usr/local/lib/python3.10/dist-packages/gym/utils/passive_env_checker.py:297: UserWarning: \u001b[33mWARN: No render fps was declared in the environment (env.metadata['render_fps'] is None or not defined), rendering may occur at inconsistent fps.\u001b[0m\n",
            "  logger.warn(\n"
          ]
        },
        {
          "output_type": "display_data",
          "data": {
            "text/plain": [
              "<Figure size 640x480 with 1 Axes>"
            ],
            "image/png": "[encoded data removed]"
          },
          "metadata": {}
        }
      ],
      "source": [
        "new_step_api=True\n",
        "env = gym.make('SpaceInvaders-v4', render_mode='rgb_array')\n",
        "height, width, channels = env.observation_space.shape\n",
        "actions = env.action_space.n\n",
        "\n",
        "state = env.reset()\n",
        "# print(f\"Initial state: {state}\")\n",
        "\n",
        "def show_rendered_env(env):\n",
        "  plt.imshow(env.render(mode='rgb_array'))\n",
        "  plt.axis('off')\n",
        "  plt.show()\n",
        "\n",
        "# Example usage: Render and display the initial state\n",
        "show_rendered_env(env)"
      ]
    },
    {
      "cell_type": "code",
      "execution_count": null,
      "metadata": {
        "colab": {
          "base_uri": "https://localhost:8080/"
        },
        "collapsed": true,
        "id": "D4EA1xwWFC4z",
        "outputId": "d3abe8ac-df2b-4716-d0b4-7375a17f9ba7"
      },
      "outputs": [
        {
          "output_type": "stream",
          "name": "stdout",
          "text": [
            "Q table: [[ 0.07018047 -0.30493751 -1.3740064  -0.06683379  1.35391267 -1.25365776]\n",
            " [ 1.19814012 -1.31279716 -1.2419684  -0.2016437   0.92481486  0.63937275]\n",
            " [-1.28644759 -0.02936391  0.42609234  0.39868862  0.31078358  0.17184652]\n",
            " ...\n",
            " [ 1.4570849   1.021574   -1.21156232  0.26137885  0.45720262  0.89330269]\n",
            " [-2.37151821  1.21475739  0.67693829 -1.03132232 -1.48037471 -1.2718051 ]\n",
            " [ 1.48117331  0.05096867 -1.27773262 -1.14414965  0.08420031  0.46799627]]\n"
          ]
        }
      ],
      "source": [
        "# 0: NOOP\n",
        "# 1: FIRE\n",
        "# 2: RIGHT\n",
        "# 3: LEFT\n",
        "# 4: RIGHTFIRE\n",
        "# 5: LEFTFIRE\n",
        "\n",
        "state_size = env.observation_space.shape\n",
        "state_size_flat = np.prod(state_size)\n",
        "action_size = env.action_space.n\n",
        "\n",
        "qtable = np.zeros((state_size_flat, action_size))\n",
        "\n",
        "# print(f\"Q table: {qtable}\")\n",
        "\n",
        "learning_rate = 0.5\n",
        "discount_rate = 0.8\n",
        "\n",
        "reward = 10\n",
        "\n",
        "state = env.observation_space.sample()\n",
        "state_flat = state.flatten()\n",
        "\n",
        "action = env.action_space.sample()\n",
        "\n",
        "new_state = env.observation_space.sample()\n",
        "new_state_flat = new_state.flatten()\n",
        "\n",
        "qtable[state_flat, action] += learning_rate * (reward + discount_rate * np.max(qtable[new_state_flat,:]) - qtable[state_flat,action])\n",
        "\n",
        "# print(f\"Q-value for (state, action) pair ({state}, {action}): {qtable[state,action]}\")\n",
        "\n",
        "episode = random.randint(0,500)\n",
        "qtable = np.random.randn(state_size_flat, action_size)\n",
        "\n",
        "epsilon = 0.5\n",
        "decay_rate = 0.01\n",
        "\n",
        "if random.uniform(0,1) < epsilon:\n",
        "    action = env.action_space.sample()\n",
        "else:\n",
        "    action = np.argmax(qtable[state.flatten(),:])\n",
        "\n",
        "epsilon = np.exp(-decay_rate*episode)\n",
        "print(f\"Q table: {qtable}\")"
      ]
    },
    {
      "cell_type": "code",
      "execution_count": null,
      "metadata": {
        "colab": {
          "base_uri": "https://localhost:8080/",
          "height": 460
        },
        "id": "-53feeqtLcyA",
        "outputId": "e8c7754b-a9eb-4c7b-b001-818d3eaacff9"
      },
      "outputs": [
        {
          "output_type": "stream",
          "name": "stdout",
          "text": [
            "TRAINED AGENT\n",
            "+++++EPISODE 30+++++\n",
            "Step 200\n"
          ]
        },
        {
          "output_type": "display_data",
          "data": {
            "text/plain": [
              "<Figure size 640x480 with 1 Axes>"
            ],
            "image/png": "[encoded data removed]"
          },
          "metadata": {}
        }
      ],
      "source": [
        "class bcolors:\n",
        "    RED= '\\u001b[31m'\n",
        "    GREEN= '\\u001b[32m'\n",
        "    RESET= '\\u001b[0m'\n",
        "\n",
        "env = gym.make('SpaceInvaders-v4', render_mode='rgb_array')\n",
        "\n",
        "state_size = env.observation_space.shape\n",
        "state_size_flat = np.prod(state_size)\n",
        "action_size = env.action_space.n\n",
        "qtable = np.zeros((state_size_flat, action_size))\n",
        "\n",
        "learning_rate = 0.9\n",
        "discount_rate = 0.8\n",
        "epsilon = 0.5\n",
        "decay_rate= 0.01\n",
        "sum_rew = 0;\n",
        "rew_list = []\n",
        "num_steps = 200\n",
        "num_episodes = 2000\n",
        "max_steps = 200\n",
        "\n",
        "print(\"AGENT IS TRAINING...\")\n",
        "\n",
        "for episode in range(num_episodes):\n",
        "    # Reinicia entorno\n",
        "    state_raw = env.reset()\n",
        "    # Transforma estado (imagen) en int para q table\n",
        "    state = state_raw[0].flatten()\n",
        "    step = 0\n",
        "    done = False\n",
        "    for step in range(max_steps):\n",
        "        if random.uniform(0,1) < epsilon:\n",
        "            action = env.action_space.sample()\n",
        "        else:\n",
        "            action = np.argmax(qtable[state,:])\n",
        "\n",
        "        new_state_raw, reward, done, info = env.step(action)\n",
        "\n",
        "        new_state = new_state_raw[0].flatten()\n",
        "\n",
        "        qtable[state,action] = qtable[state,action] + learning_rate * (reward + discount_rate * np.max(qtable[new_state,:])-qtable[state,action])\n",
        "\n",
        "        state = new_state\n",
        "\n",
        "        if done == True:\n",
        "            break\n",
        "\n",
        "    epsilon = np.exp(-decay_rate*episode)\n",
        "\n",
        "\n",
        "clear_output()\n",
        "print(f\"Our Q-table: {qtable}\")\n",
        "print(f\"Training completed over {num_episodes} episodes\")\n",
        "input(\"Press Enter to see our trained space invader agent\")\n",
        "sleep(0.2)\n",
        "clear_output()\n",
        "\n",
        "episodes_to_preview = 30\n",
        "for episode in range(episodes_to_preview):\n",
        "\n",
        "    state_raw = env.reset()\n",
        "    state = state_raw[0].flatten()\n",
        "    step = 0\n",
        "    done = False\n",
        "    episode_rewards = 0\n",
        "\n",
        "    for step in range(num_steps):\n",
        "\n",
        "        clear_output(wait=True)\n",
        "\n",
        "        print(f\"TRAINED AGENT\")\n",
        "        print(f\"+++++EPISODE {episode+1}+++++\")\n",
        "        print(f\"Step {step+1}\")\n",
        "\n",
        "        action = np.argmax(qtable[state,:])\n",
        "\n",
        "        new_state_raw, reward, done, info = env.step(action)\n",
        "        new_state = new_state_raw[0].flatten()  # Flatten the new_state\n",
        "\n",
        "        episode_rewards += reward\n",
        "\n",
        "        show_rendered_env(env)\n",
        "    sum_rew = sum_rew + episode_rewards\n",
        "    rew_list.append(episode_rewards)"
      ]
    },
    {
      "cell_type": "code",
      "execution_count": null,
      "metadata": {
        "colab": {
          "background_save": true
        },
        "id": "W2r1f9o5ZH5w"
      },
      "outputs": [],
      "source": [
        "\n",
        "print(f\"Average reward: {sum_rew/episodes_to_preview}\")\n",
        "\n",
        "plt.style.use('_mpl-gallery')\n",
        "# make data\n",
        "x = np.linspace(1, episodes_to_preview, episodes_to_preview)\n",
        "\n",
        "fig, ax = plt.subplots()\n",
        "ax.plot(x, rew_list, 'b')\n",
        "ax.set(xlabel='Episodio', ylabel='Recompensa')\n",
        "\n",
        "env.close()"
      ]
    }
  ],
  "metadata": {
    "colab": {
      "provenance": [],
      "authorship_tag": "ABX9TyNiK25dOwczPx326RSh0amt",
      "include_colab_link": true
    },
    "kernelspec": {
      "display_name": "Python 3",
      "name": "python3"
    },
    "language_info": {
      "name": "python"
    }
  },
  "nbformat": 4,
  "nbformat_minor": 0
}